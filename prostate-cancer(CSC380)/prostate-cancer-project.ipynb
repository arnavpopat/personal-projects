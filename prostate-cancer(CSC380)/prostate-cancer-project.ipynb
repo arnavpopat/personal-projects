{
 "cells": [
  {
   "cell_type": "markdown",
   "metadata": {
    "id": "7FNG8Q4tRxOU"
   },
   "source": [
    "## Prostate Cancer Linear Regression\n",
    "*Prostate Cancer Dataset* from a study by Stamey et al. (1989).  The study aims to predict prostate-specific antigen levels from clinical measures in men about to receive a radical prostatectomy.  \n",
    "\n",
    "The data contain 8 features:\n",
    "* log cancer volume (lcavol)\n",
    "* log prostate weight (lweight)\n",
    "* age (age)\n",
    "* log amount of benign prostatic hyperplasia (lbph)\n",
    "* seminal vesicle invasion (svi)\n",
    "* log of capsular penetration (lcp)\n",
    "* Gleason score (gleason)\n",
    "* percent of Gleason scores 4 or 5 (pgg45)\n",
    "\n",
    "The data uses a fixed Train / Test split."
   ]
  },
  {
   "cell_type": "code",
   "execution_count": 21,
   "metadata": {
    "id": "HMMHdFuCM2TB"
   },
   "outputs": [],
   "source": [
    "#All finalised needed imports\n",
    "import pandas as pd\n",
    "import itertools\n",
    "from sklearn.model_selection import cross_val_score\n",
    "from sklearn import linear_model\n",
    "import matplotlib.pyplot as plt\n",
    "import numpy as np\n",
    "import warnings\n",
    "# Suppress warnings\n",
    "warnings.filterwarnings(\"ignore\")"
   ]
  },
  {
   "cell_type": "code",
   "execution_count": 22,
   "metadata": {
    "colab": {
     "base_uri": "https://localhost:8080/",
     "height": 206
    },
    "id": "jV0v7VU1O2NS",
    "outputId": "df993db4-f613-4c67-b64c-ab6ef078fb0f"
   },
   "outputs": [
    {
     "data": {
      "text/html": [
       "<div>\n",
       "<style scoped>\n",
       "    .dataframe tbody tr th:only-of-type {\n",
       "        vertical-align: middle;\n",
       "    }\n",
       "\n",
       "    .dataframe tbody tr th {\n",
       "        vertical-align: top;\n",
       "    }\n",
       "\n",
       "    .dataframe thead th {\n",
       "        text-align: right;\n",
       "    }\n",
       "</style>\n",
       "<table border=\"1\" class=\"dataframe\">\n",
       "  <thead>\n",
       "    <tr style=\"text-align: right;\">\n",
       "      <th></th>\n",
       "      <th>lcavol</th>\n",
       "      <th>lweight</th>\n",
       "      <th>age</th>\n",
       "      <th>lbph</th>\n",
       "      <th>svi</th>\n",
       "      <th>lcp</th>\n",
       "      <th>gleason</th>\n",
       "      <th>pgg45</th>\n",
       "      <th>lpsa</th>\n",
       "    </tr>\n",
       "  </thead>\n",
       "  <tbody>\n",
       "    <tr>\n",
       "      <th>0</th>\n",
       "      <td>-0.579818</td>\n",
       "      <td>2.769459</td>\n",
       "      <td>50</td>\n",
       "      <td>-1.386294</td>\n",
       "      <td>0</td>\n",
       "      <td>-1.386294</td>\n",
       "      <td>6</td>\n",
       "      <td>0</td>\n",
       "      <td>-0.430783</td>\n",
       "    </tr>\n",
       "    <tr>\n",
       "      <th>1</th>\n",
       "      <td>-0.994252</td>\n",
       "      <td>3.319626</td>\n",
       "      <td>58</td>\n",
       "      <td>-1.386294</td>\n",
       "      <td>0</td>\n",
       "      <td>-1.386294</td>\n",
       "      <td>6</td>\n",
       "      <td>0</td>\n",
       "      <td>-0.162519</td>\n",
       "    </tr>\n",
       "    <tr>\n",
       "      <th>2</th>\n",
       "      <td>-0.510826</td>\n",
       "      <td>2.691243</td>\n",
       "      <td>74</td>\n",
       "      <td>-1.386294</td>\n",
       "      <td>0</td>\n",
       "      <td>-1.386294</td>\n",
       "      <td>7</td>\n",
       "      <td>20</td>\n",
       "      <td>-0.162519</td>\n",
       "    </tr>\n",
       "    <tr>\n",
       "      <th>3</th>\n",
       "      <td>-1.203973</td>\n",
       "      <td>3.282789</td>\n",
       "      <td>58</td>\n",
       "      <td>-1.386294</td>\n",
       "      <td>0</td>\n",
       "      <td>-1.386294</td>\n",
       "      <td>6</td>\n",
       "      <td>0</td>\n",
       "      <td>-0.162519</td>\n",
       "    </tr>\n",
       "    <tr>\n",
       "      <th>4</th>\n",
       "      <td>0.751416</td>\n",
       "      <td>3.432373</td>\n",
       "      <td>62</td>\n",
       "      <td>-1.386294</td>\n",
       "      <td>0</td>\n",
       "      <td>-1.386294</td>\n",
       "      <td>6</td>\n",
       "      <td>0</td>\n",
       "      <td>0.371564</td>\n",
       "    </tr>\n",
       "  </tbody>\n",
       "</table>\n",
       "</div>"
      ],
      "text/plain": [
       "     lcavol   lweight  age      lbph  svi       lcp  gleason  pgg45      lpsa\n",
       "0 -0.579818  2.769459   50 -1.386294    0 -1.386294        6      0 -0.430783\n",
       "1 -0.994252  3.319626   58 -1.386294    0 -1.386294        6      0 -0.162519\n",
       "2 -0.510826  2.691243   74 -1.386294    0 -1.386294        7     20 -0.162519\n",
       "3 -1.203973  3.282789   58 -1.386294    0 -1.386294        6      0 -0.162519\n",
       "4  0.751416  3.432373   62 -1.386294    0 -1.386294        6      0  0.371564"
      ]
     },
     "execution_count": 22,
     "metadata": {},
     "output_type": "execute_result"
    }
   ],
   "source": [
    "df_train = pd.read_csv('prostate_train.csv')\n",
    "df_train.head()"
   ]
  },
  {
   "cell_type": "markdown",
   "metadata": {
    "id": "A73_lt-e6itZ"
   },
   "source": [
    "## Initial Regression \n",
    "We will begin by fitting our first ordinary least squares regression model.  But first we need to do a little data management.  You will notice that the data exist in a single data frame (one for Train and one for Test).  The last column of the data frame ('lpsa') is the quantity that we wish to predict (the Y-value).  \n"
   ]
  },
  {
   "cell_type": "code",
   "execution_count": 23,
   "metadata": {
    "colab": {
     "base_uri": "https://localhost:8080/",
     "height": 206
    },
    "id": "4rJP2qpRSqXm",
    "outputId": "4bdad063-2e64-4fac-d37d-cd1ab2959108"
   },
   "outputs": [
    {
     "data": {
      "text/html": [
       "<div>\n",
       "<style scoped>\n",
       "    .dataframe tbody tr th:only-of-type {\n",
       "        vertical-align: middle;\n",
       "    }\n",
       "\n",
       "    .dataframe tbody tr th {\n",
       "        vertical-align: top;\n",
       "    }\n",
       "\n",
       "    .dataframe thead th {\n",
       "        text-align: right;\n",
       "    }\n",
       "</style>\n",
       "<table border=\"1\" class=\"dataframe\">\n",
       "  <thead>\n",
       "    <tr style=\"text-align: right;\">\n",
       "      <th></th>\n",
       "      <th>lcavol</th>\n",
       "      <th>lweight</th>\n",
       "      <th>age</th>\n",
       "      <th>lbph</th>\n",
       "      <th>svi</th>\n",
       "      <th>lcp</th>\n",
       "      <th>gleason</th>\n",
       "      <th>pgg45</th>\n",
       "    </tr>\n",
       "  </thead>\n",
       "  <tbody>\n",
       "    <tr>\n",
       "      <th>0</th>\n",
       "      <td>-0.579818</td>\n",
       "      <td>2.769459</td>\n",
       "      <td>50</td>\n",
       "      <td>-1.386294</td>\n",
       "      <td>0</td>\n",
       "      <td>-1.386294</td>\n",
       "      <td>6</td>\n",
       "      <td>0</td>\n",
       "    </tr>\n",
       "    <tr>\n",
       "      <th>1</th>\n",
       "      <td>-0.994252</td>\n",
       "      <td>3.319626</td>\n",
       "      <td>58</td>\n",
       "      <td>-1.386294</td>\n",
       "      <td>0</td>\n",
       "      <td>-1.386294</td>\n",
       "      <td>6</td>\n",
       "      <td>0</td>\n",
       "    </tr>\n",
       "    <tr>\n",
       "      <th>2</th>\n",
       "      <td>-0.510826</td>\n",
       "      <td>2.691243</td>\n",
       "      <td>74</td>\n",
       "      <td>-1.386294</td>\n",
       "      <td>0</td>\n",
       "      <td>-1.386294</td>\n",
       "      <td>7</td>\n",
       "      <td>20</td>\n",
       "    </tr>\n",
       "    <tr>\n",
       "      <th>3</th>\n",
       "      <td>-1.203973</td>\n",
       "      <td>3.282789</td>\n",
       "      <td>58</td>\n",
       "      <td>-1.386294</td>\n",
       "      <td>0</td>\n",
       "      <td>-1.386294</td>\n",
       "      <td>6</td>\n",
       "      <td>0</td>\n",
       "    </tr>\n",
       "    <tr>\n",
       "      <th>4</th>\n",
       "      <td>0.751416</td>\n",
       "      <td>3.432373</td>\n",
       "      <td>62</td>\n",
       "      <td>-1.386294</td>\n",
       "      <td>0</td>\n",
       "      <td>-1.386294</td>\n",
       "      <td>6</td>\n",
       "      <td>0</td>\n",
       "    </tr>\n",
       "  </tbody>\n",
       "</table>\n",
       "</div>"
      ],
      "text/plain": [
       "     lcavol   lweight  age      lbph  svi       lcp  gleason  pgg45\n",
       "0 -0.579818  2.769459   50 -1.386294    0 -1.386294        6      0\n",
       "1 -0.994252  3.319626   58 -1.386294    0 -1.386294        6      0\n",
       "2 -0.510826  2.691243   74 -1.386294    0 -1.386294        7     20\n",
       "3 -1.203973  3.282789   58 -1.386294    0 -1.386294        6      0\n",
       "4  0.751416  3.432373   62 -1.386294    0 -1.386294        6      0"
      ]
     },
     "execution_count": 23,
     "metadata": {},
     "output_type": "execute_result"
    }
   ],
   "source": [
    "features = ['lcavol', 'lweight', 'age', 'lbph', 'svi', 'lcp', 'gleason', 'pgg45']\n",
    "output = ['lpsa']\n",
    "X_train = df_train[features]\n",
    "Y_train = df_train[output]\n",
    "X_train.head()"
   ]
  },
  {
   "cell_type": "markdown",
   "metadata": {
    "id": "8ETPysbP8Fc6"
   },
   "source": [
    "\n",
    "Now we will fit our first model using a single feature ('lcavol').  \n"
   ]
  },
  {
   "cell_type": "code",
   "execution_count": 24,
   "metadata": {
    "colab": {
     "base_uri": "https://localhost:8080/",
     "height": 312
    },
    "id": "v8RGYe8xP2iO",
    "outputId": "8f3d4974-13ae-48ac-febe-f7a0292a6b16"
   },
   "outputs": [
    {
     "name": "stdout",
     "output_type": "stream",
     "text": [
      "R-squared:  0.5375164690552882\n"
     ]
    },
    {
     "data": {
      "image/png": "[encoded data removed]",
      "text/plain": [
       "<Figure size 640x480 with 1 Axes>"
      ]
     },
     "metadata": {},
     "output_type": "display_data"
    }
   ],
   "source": [
    "# Fit one feature\n",
    "lr = linear_model.LinearRegression()\n",
    "lr.fit(X_train['lcavol'].values.reshape(-1, 1), Y_train)\n",
    "r2 = lr.score(X_train['lcavol'].values.reshape(-1, 1), Y_train)\n",
    "print('R-squared: ', r2)\n",
    "\n",
    "# plot\n",
    "x = np.arange(X_train['lcavol'].min(), X_train['lcavol'].max(), 0.01)\n",
    "y = lr.predict(x.reshape(-1,1))\n",
    "plt.scatter(X_train['lcavol'], Y_train, color='black')\n",
    "plt.plot(x, y, color='blue', linewidth=3)\n",
    "plt.xlabel('lcavol')\n",
    "plt.ylabel('lpsa')\n",
    "plt.title('Linear Regression of lpsa')\n",
    "plt.show()"
   ]
  },
  {
   "cell_type": "markdown",
   "metadata": {
    "id": "rAKhTAdp-Lq9"
   },
   "source": [
    "## Best Subset Feature Selection\n",
    "Now we will look at finding the best subset of features out of all possible subsets. We will break this into subproblems to walk through it. "
   ]
  },
  {
   "cell_type": "code",
   "execution_count": 25,
   "metadata": {
    "id": "7jNdoPr4lYw4"
   },
   "outputs": [],
   "source": [
    "def findsubsets(S,k):\n",
    "    return set(itertools.combinations(S, k))"
   ]
  },
  {
   "cell_type": "markdown",
   "metadata": {
    "id": "1Zy6jrtRllHM"
   },
   "source": [
    "### (a)\n",
    "\n",
    "We will start by getting familiar with the findsubsets() function.  The variable 'features' was defined previously as a set of all feature names.  "
   ]
  },
  {
   "cell_type": "code",
   "execution_count": 26,
   "metadata": {
    "colab": {
     "base_uri": "https://localhost:8080/"
    },
    "id": "TmfGnsvgmmKO",
    "outputId": "72faa203-5832-422c-e478-3858439b40c4"
   },
   "outputs": [
    {
     "name": "stdout",
     "output_type": "stream",
     "text": [
      "Best R2:  -6.611191159159723\n",
      "Best Features:  ('lcavol', 'lweight', 'age')\n"
     ]
    }
   ],
   "source": [
    "subsets3 = findsubsets(features, 3)\n",
    "best_score3 = -np.Inf\n",
    "best_features3 = []\n",
    "for feats in subsets3:\n",
    "  this_X = X_train[list(feats)]\n",
    "  cvs = cross_val_score(linear_model.LinearRegression(), \n",
    "                             this_X, Y_train, cv=5, scoring='r2')\n",
    "  this_score = cvs.mean()\n",
    "  if this_score > best_score3:\n",
    "    best_score3 = this_score\n",
    "    best_features3 = feats\n",
    "\n",
    "# report\n",
    "print('Best R2: ', best_score3)\n",
    "print('Best Features: ', best_features3)"
   ]
  },
  {
   "cell_type": "markdown",
   "metadata": {
    "id": "rN-qL4N_n0tI"
   },
   "source": [
    "### (b)\n",
    "\n",
    "Now, we repeat the above process for all subsets of all sizes.  "
   ]
  },
  {
   "cell_type": "code",
   "execution_count": 27,
   "metadata": {
    "colab": {
     "base_uri": "https://localhost:8080/",
     "height": 330
    },
    "id": "dWIabcOp884h",
    "outputId": "233cfa21-47e6-4626-d41d-e9beeaaec76b"
   },
   "outputs": [
    {
     "name": "stdout",
     "output_type": "stream",
     "text": [
      "Best R2:  -6.507279708487542\n",
      "Best Features:  ('lcavol', 'lweight')\n"
     ]
    },
    {
     "data": {
      "image/png": "[encoded data removed]",
      "text/plain": [
       "<Figure size 640x480 with 1 Axes>"
      ]
     },
     "metadata": {},
     "output_type": "display_data"
    }
   ],
   "source": [
    "# iterate powerset of features\n",
    "from sklearn.metrics import r2_score\n",
    "scores = []\n",
    "k_vals = []\n",
    "best_score = -np.Inf + np.zeros(len(features) + 1)\n",
    "best_features = [[]]\n",
    "for k in range(1,len(features) + 1):    \n",
    "    best_features.append([])    \n",
    "    subs = list(findsubsets(features,k))\n",
    "    \n",
    "    # score all combinations of k features\n",
    "    this_score = np.zeros(len(subs))\n",
    "    for i in range(len(subs)):\n",
    "        this_X = X_train[list(subs[i])]        \n",
    "        cvs = cross_val_score(linear_model.LinearRegression(), \n",
    "                             this_X, Y_train, cv=5, scoring='r2')\n",
    "# \t\ttmp = linear_model.LinearRegression()\n",
    "# \t\ttmp.fit(this_X, Y_train)\n",
    "# \t\tprint(r2_score(tmp.predict(this_X), Y_train))\n",
    "# \t\tprint(tmp.predict(this_X) - Y_train)\n",
    "\n",
    "        scores.append(cvs.mean())\n",
    "        k_vals.append(k)\n",
    "        \n",
    "        # check score\n",
    "        if cvs.mean() > best_score[k]:\n",
    "            best_score[k] = cvs.mean()\n",
    "            best_features[k] = subs[i]\n",
    "\n",
    "# pick-and-report best features\n",
    "idx = np.argmax(best_score)\n",
    "best_features_allsubsets = best_features[idx]\n",
    "print('Best R2: ', best_score[idx])\n",
    "print('Best Features: ', best_features_allsubsets)\n",
    "\n",
    "# show scores\n",
    "plt.scatter(k_vals, scores)\n",
    "plt.plot(range(len(features) + 1), best_score)\n",
    "plt.title('Subset Size vs. R-squared')\n",
    "plt.xlabel('Subset Size')\n",
    "plt.ylabel('R-Squared')\n",
    "plt.show()\n"
   ]
  },
  {
   "cell_type": "code",
   "execution_count": 28,
   "metadata": {},
   "outputs": [
    {
     "data": {
      "text/plain": [
       "[('lcavol', 'lweight', 'age', 'lbph', 'svi', 'lcp', 'gleason', 'pgg45')]"
      ]
     },
     "metadata": {},
     "output_type": "display_data"
    },
    {
     "data": {
      "text/plain": [
       "('lcavol', 'lweight', 'age', 'lbph', 'svi', 'lcp', 'gleason', 'pgg45')"
      ]
     },
     "metadata": {},
     "output_type": "display_data"
    },
    {
     "data": {
      "text/plain": [
       "'lcavol'"
      ]
     },
     "metadata": {},
     "output_type": "display_data"
    },
    {
     "data": {
      "text/plain": [
       "('lcavol', 'lweight', 'age', 'lbph', 'svi', 'lcp', 'gleason', 'pgg45')"
      ]
     },
     "metadata": {},
     "output_type": "display_data"
    },
    {
     "data": {
      "text/html": [
       "<div>\n",
       "<style scoped>\n",
       "    .dataframe tbody tr th:only-of-type {\n",
       "        vertical-align: middle;\n",
       "    }\n",
       "\n",
       "    .dataframe tbody tr th {\n",
       "        vertical-align: top;\n",
       "    }\n",
       "\n",
       "    .dataframe thead th {\n",
       "        text-align: right;\n",
       "    }\n",
       "</style>\n",
       "<table border=\"1\" class=\"dataframe\">\n",
       "  <thead>\n",
       "    <tr style=\"text-align: right;\">\n",
       "      <th></th>\n",
       "      <th>lcavol</th>\n",
       "      <th>lweight</th>\n",
       "      <th>age</th>\n",
       "      <th>lbph</th>\n",
       "      <th>svi</th>\n",
       "      <th>lcp</th>\n",
       "      <th>gleason</th>\n",
       "      <th>pgg45</th>\n",
       "    </tr>\n",
       "  </thead>\n",
       "  <tbody>\n",
       "    <tr>\n",
       "      <th>0</th>\n",
       "      <td>-0.579818</td>\n",
       "      <td>2.769459</td>\n",
       "      <td>50</td>\n",
       "      <td>-1.386294</td>\n",
       "      <td>0</td>\n",
       "      <td>-1.386294</td>\n",
       "      <td>6</td>\n",
       "      <td>0</td>\n",
       "    </tr>\n",
       "    <tr>\n",
       "      <th>1</th>\n",
       "      <td>-0.994252</td>\n",
       "      <td>3.319626</td>\n",
       "      <td>58</td>\n",
       "      <td>-1.386294</td>\n",
       "      <td>0</td>\n",
       "      <td>-1.386294</td>\n",
       "      <td>6</td>\n",
       "      <td>0</td>\n",
       "    </tr>\n",
       "    <tr>\n",
       "      <th>2</th>\n",
       "      <td>-0.510826</td>\n",
       "      <td>2.691243</td>\n",
       "      <td>74</td>\n",
       "      <td>-1.386294</td>\n",
       "      <td>0</td>\n",
       "      <td>-1.386294</td>\n",
       "      <td>7</td>\n",
       "      <td>20</td>\n",
       "    </tr>\n",
       "    <tr>\n",
       "      <th>3</th>\n",
       "      <td>-1.203973</td>\n",
       "      <td>3.282789</td>\n",
       "      <td>58</td>\n",
       "      <td>-1.386294</td>\n",
       "      <td>0</td>\n",
       "      <td>-1.386294</td>\n",
       "      <td>6</td>\n",
       "      <td>0</td>\n",
       "    </tr>\n",
       "    <tr>\n",
       "      <th>4</th>\n",
       "      <td>0.751416</td>\n",
       "      <td>3.432373</td>\n",
       "      <td>62</td>\n",
       "      <td>-1.386294</td>\n",
       "      <td>0</td>\n",
       "      <td>-1.386294</td>\n",
       "      <td>6</td>\n",
       "      <td>0</td>\n",
       "    </tr>\n",
       "    <tr>\n",
       "      <th>...</th>\n",
       "      <td>...</td>\n",
       "      <td>...</td>\n",
       "      <td>...</td>\n",
       "      <td>...</td>\n",
       "      <td>...</td>\n",
       "      <td>...</td>\n",
       "      <td>...</td>\n",
       "      <td>...</td>\n",
       "    </tr>\n",
       "    <tr>\n",
       "      <th>62</th>\n",
       "      <td>3.246491</td>\n",
       "      <td>4.101817</td>\n",
       "      <td>68</td>\n",
       "      <td>-1.386294</td>\n",
       "      <td>0</td>\n",
       "      <td>-1.386294</td>\n",
       "      <td>6</td>\n",
       "      <td>0</td>\n",
       "    </tr>\n",
       "    <tr>\n",
       "      <th>63</th>\n",
       "      <td>2.532903</td>\n",
       "      <td>3.677566</td>\n",
       "      <td>61</td>\n",
       "      <td>1.348073</td>\n",
       "      <td>1</td>\n",
       "      <td>-1.386294</td>\n",
       "      <td>7</td>\n",
       "      <td>15</td>\n",
       "    </tr>\n",
       "    <tr>\n",
       "      <th>64</th>\n",
       "      <td>2.830268</td>\n",
       "      <td>3.876396</td>\n",
       "      <td>68</td>\n",
       "      <td>-1.386294</td>\n",
       "      <td>1</td>\n",
       "      <td>1.321756</td>\n",
       "      <td>7</td>\n",
       "      <td>60</td>\n",
       "    </tr>\n",
       "    <tr>\n",
       "      <th>65</th>\n",
       "      <td>3.821004</td>\n",
       "      <td>3.896909</td>\n",
       "      <td>44</td>\n",
       "      <td>-1.386294</td>\n",
       "      <td>1</td>\n",
       "      <td>2.169054</td>\n",
       "      <td>7</td>\n",
       "      <td>40</td>\n",
       "    </tr>\n",
       "    <tr>\n",
       "      <th>66</th>\n",
       "      <td>2.882564</td>\n",
       "      <td>3.773910</td>\n",
       "      <td>68</td>\n",
       "      <td>1.558145</td>\n",
       "      <td>1</td>\n",
       "      <td>1.558145</td>\n",
       "      <td>7</td>\n",
       "      <td>80</td>\n",
       "    </tr>\n",
       "  </tbody>\n",
       "</table>\n",
       "<p>67 rows × 8 columns</p>\n",
       "</div>"
      ],
      "text/plain": [
       "      lcavol   lweight  age      lbph  svi       lcp  gleason  pgg45\n",
       "0  -0.579818  2.769459   50 -1.386294    0 -1.386294        6      0\n",
       "1  -0.994252  3.319626   58 -1.386294    0 -1.386294        6      0\n",
       "2  -0.510826  2.691243   74 -1.386294    0 -1.386294        7     20\n",
       "3  -1.203973  3.282789   58 -1.386294    0 -1.386294        6      0\n",
       "4   0.751416  3.432373   62 -1.386294    0 -1.386294        6      0\n",
       "..       ...       ...  ...       ...  ...       ...      ...    ...\n",
       "62  3.246491  4.101817   68 -1.386294    0 -1.386294        6      0\n",
       "63  2.532903  3.677566   61  1.348073    1 -1.386294        7     15\n",
       "64  2.830268  3.876396   68 -1.386294    1  1.321756        7     60\n",
       "65  3.821004  3.896909   44 -1.386294    1  2.169054        7     40\n",
       "66  2.882564  3.773910   68  1.558145    1  1.558145        7     80\n",
       "\n",
       "[67 rows x 8 columns]"
      ]
     },
     "execution_count": 28,
     "metadata": {},
     "output_type": "execute_result"
    }
   ],
   "source": [
    "display(subs)\n",
    "display(subs[0])\n",
    "display(subs[0][0])\n",
    "display(subs[0])\n",
    "X_train[list(subs[0])]"
   ]
  },
  {
   "cell_type": "markdown",
   "metadata": {
    "id": "aJh7JMiiu-Y9"
   },
   "source": [
    "We have found the best set of features by brute-force search over all possible features.  "
   ]
  },
  {
   "cell_type": "markdown",
   "metadata": {
    "id": "paZwCchQ9vAM"
   },
   "source": [
    "## Ridge Regression \n",
    "\n",
    "\n",
    "The problem with brute force search over features is that it doesn't scale well.  We can do it for 8 features, but we can't do it for larger sets of features.  Instead, we will look at a simpler model selection strategy by using L2 regularized linear regression (a.k.a. Ridge Regression). "
   ]
  },
  {
   "cell_type": "code",
   "execution_count": 29,
   "metadata": {
    "colab": {
     "base_uri": "https://localhost:8080/"
    },
    "id": "602shAoTWTU4",
    "outputId": "27600aab-6aba-424d-cc68-2940461f09ce"
   },
   "outputs": [
    {
     "name": "stdout",
     "output_type": "stream",
     "text": [
      "lcavol : 0.576706\n",
      "lweight : 0.593447\n",
      "age : -0.018544\n",
      "lbph : 0.145617\n",
      "svi : 0.683643\n",
      "lcp : -0.193621\n",
      "gleason : -0.034175\n",
      "pgg45 : 0.009508\n"
     ]
    }
   ],
   "source": [
    "def printFeatureWeights(f, w):\n",
    "  for idx in range(len(f)):\n",
    "    print('%s : %f' % (f[idx], w[idx]))\n",
    "\n",
    "l2 = linear_model.Ridge(alpha=0.5).fit(X_train, Y_train)\n",
    "printFeatureWeights(features, l2.coef_[0])\n"
   ]
  },
  {
   "cell_type": "markdown",
   "metadata": {
    "id": "L5UO9AYMwlpY"
   },
   "source": [
    "\n",
    "\n",
    "We chose the regularization coefficient alpha=0.5 somewhat arbitrarily.  We now need to perform model selection in order to learn the best value of alpha.  We will do that by using cross_val_score over a range of values for alpha.  When searching for regularization parameters it is generally good practice to search in log-domain, rather than linear domain.  For example, we will search in the range $[10^{-1}, 10^3]$.  Using Numpy's \"logspace\" function this corresponds to the range $[-1, 3]$ in log-domain.  "
   ]
  },
  {
   "cell_type": "code",
   "execution_count": 30,
   "metadata": {
    "colab": {
     "base_uri": "https://localhost:8080/",
     "height": 316
    },
    "id": "sB7WSC0EWTXr",
    "outputId": "08560d04-22a0-4042-bab7-b4018caf2b06"
   },
   "outputs": [
    {
     "name": "stdout",
     "output_type": "stream",
     "text": [
      "Best Alpha:  6.25055192527397\n"
     ]
    },
    {
     "data": {
      "image/png": "[encoded data removed]",
      "text/plain": [
       "<Figure size 640x480 with 1 Axes>"
      ]
     },
     "metadata": {},
     "output_type": "display_data"
    }
   ],
   "source": [
    "# from sklearn.linear_model import RidgeCV\n",
    "alphas = np.logspace(-1, 3, num=50)\n",
    "cv = 5\n",
    "\n",
    "# do cross-validation\n",
    "scores = np.zeros((len(alphas), cv))\n",
    "for idx in range(len(alphas)):\n",
    "  l2 = linear_model.Ridge(alpha=alphas[idx])\n",
    "  scores[idx,:] = cross_val_score(l2, X_train, Y_train, cv=cv, scoring='r2')\n",
    "\n",
    "# select best alpha\n",
    "mean_r2 = np.mean(scores, axis=1)\n",
    "std_r2 = np.std(scores, axis=1)\n",
    "alpha_idx = np.argmax(mean_r2)\n",
    "best_alpha_l2 = alphas[alpha_idx]\n",
    "print('Best Alpha: ', best_alpha_l2)\n",
    "  \n",
    "# plot\n",
    "plt.errorbar(alphas, mean_r2, yerr=std_r2, label='Avg. R2')\n",
    "plt.axvline(best_alpha_l2, linestyle='--', color=\"k\", label=\"Selected Alpha\")\n",
    "plt.xscale('log')\n",
    "plt.xlabel('alpha')\n",
    "plt.ylabel('R-squared')\n",
    "plt.title('Model Selection L2')\n",
    "plt.legend()\n",
    "plt.show()\n"
   ]
  },
  {
   "cell_type": "markdown",
   "metadata": {
    "id": "x1ugkjup20ag"
   },
   "source": [
    "Now we have a good model."
   ]
  },
  {
   "cell_type": "markdown",
   "metadata": {
    "id": "uQGplVV-XAGV"
   },
   "source": [
    "## LASSO \n",
    "Ridge regression performs shrinkage of the weights using the L2 norm.  This will drive some weights *close* to zero, but not exactly zero.  The LASSO method replaces the L2 penalty with an L1 penalty.  Due to properties of L1 discussed in lecture, this has the effect of learning exactly zero weights on some features when it is supported by the data.  For this we will repeat procedure of learning a Ridge regression model, but we will instead use LASSO.  Let's start by fitting a LASSO model with a fixed alpha value.  \n",
    "\n"
   ]
  },
  {
   "cell_type": "code",
   "execution_count": 31,
   "metadata": {
    "colab": {
     "base_uri": "https://localhost:8080/"
    },
    "id": "w86quobv5V28",
    "outputId": "36bb7888-f051-447e-b18d-2fcf528f70f3"
   },
   "outputs": [
    {
     "name": "stdout",
     "output_type": "stream",
     "text": [
      "lcavol : 0.538986\n",
      "lweight : 0.184891\n",
      "age : -0.006352\n",
      "lbph : 0.128433\n",
      "svi : 0.000000\n",
      "lcp : -0.000000\n",
      "gleason : -0.000000\n",
      "pgg45 : 0.007727\n"
     ]
    }
   ],
   "source": [
    "l1 = linear_model.Lasso(alpha=0.1).fit(X_train, Y_train)\n",
    "printFeatureWeights(features, l1.coef_)"
   ]
  },
  {
   "cell_type": "markdown",
   "metadata": {
    "id": "pVB9sLc65fDM"
   },
   "source": [
    "\n",
    "Now we will find a good value of alpha using cross-validation.  Due to differences in how the LASSO model is optimized, there are dedicated methods for performing cross-validation on LASSO.  Scikit-Learn's LassoLarsCV class performs LASSO-specific cross-validation using an optimized [Least Angle Regression](https://en.wikipedia.org/wiki/Least-angle_regression) (LARS) algorithm.  "
   ]
  },
  {
   "cell_type": "code",
   "execution_count": 32,
   "metadata": {
    "colab": {
     "base_uri": "https://localhost:8080/",
     "height": 299
    },
    "id": "_GkcB0rKWEyS",
    "outputId": "5b4271f5-ced0-4e65-e776-5dd88575194a"
   },
   "outputs": [
    {
     "data": {
      "image/png": "[encoded data removed]",
      "text/plain": [
       "<Figure size 640x480 with 1 Axes>"
      ]
     },
     "metadata": {},
     "output_type": "display_data"
    }
   ],
   "source": [
    "from sklearn.linear_model import LassoLarsCV, LassoCV\n",
    "\n",
    "l1 = LassoLarsCV(cv=20, normalize=False).fit(X_train, Y_train)\n",
    "\n",
    "# compute stats\n",
    "mean_mse = l1.mse_path_.mean(axis=-1)\n",
    "std_mse = l1.mse_path_.std(axis=-1)\n",
    "best_alpha_l1 = l1.alpha_\n",
    "\n",
    "# plot stuff\n",
    "plt.errorbar(l1.cv_alphas_, mean_mse, yerr=std_mse, label='Avg. MSE')\n",
    "plt.axvline(best_alpha_l1, linestyle='--', color=\"k\", label=\"Selected Alpha\")\n",
    "plt.xscale('log')\n",
    "plt.xlabel('alpha')\n",
    "plt.ylabel('MSE')\n",
    "plt.title('Model Selection L1')\n",
    "plt.legend()\n",
    "plt.show()"
   ]
  },
  {
   "cell_type": "markdown",
   "metadata": {
    "id": "Yx6Moj3hdhox"
   },
   "source": [
    "## Evaluate on Test \n",
    "\n",
    "We will train all of the best performing models chosen by Best Subsets, Ridge Regression, and LASSO.  We will evaluate and compare these models on the test data.  This dataset uses a standard train / test split so we begin by loading test data below."
   ]
  },
  {
   "cell_type": "code",
   "execution_count": 33,
   "metadata": {
    "colab": {
     "base_uri": "https://localhost:8080/",
     "height": 206
    },
    "id": "hbrUoMTEQ3v6",
    "outputId": "a31322a5-cad8-4d44-cf71-40da63922e2d"
   },
   "outputs": [
    {
     "data": {
      "text/html": [
       "<div>\n",
       "<style scoped>\n",
       "    .dataframe tbody tr th:only-of-type {\n",
       "        vertical-align: middle;\n",
       "    }\n",
       "\n",
       "    .dataframe tbody tr th {\n",
       "        vertical-align: top;\n",
       "    }\n",
       "\n",
       "    .dataframe thead th {\n",
       "        text-align: right;\n",
       "    }\n",
       "</style>\n",
       "<table border=\"1\" class=\"dataframe\">\n",
       "  <thead>\n",
       "    <tr style=\"text-align: right;\">\n",
       "      <th></th>\n",
       "      <th>lcavol</th>\n",
       "      <th>lweight</th>\n",
       "      <th>age</th>\n",
       "      <th>lbph</th>\n",
       "      <th>svi</th>\n",
       "      <th>lcp</th>\n",
       "      <th>gleason</th>\n",
       "      <th>pgg45</th>\n",
       "      <th>lpsa</th>\n",
       "    </tr>\n",
       "  </thead>\n",
       "  <tbody>\n",
       "    <tr>\n",
       "      <th>0</th>\n",
       "      <td>0.737164</td>\n",
       "      <td>3.473518</td>\n",
       "      <td>64</td>\n",
       "      <td>0.615186</td>\n",
       "      <td>0</td>\n",
       "      <td>-1.386294</td>\n",
       "      <td>6</td>\n",
       "      <td>0</td>\n",
       "      <td>0.765468</td>\n",
       "    </tr>\n",
       "    <tr>\n",
       "      <th>1</th>\n",
       "      <td>-0.776529</td>\n",
       "      <td>3.539509</td>\n",
       "      <td>47</td>\n",
       "      <td>-1.386294</td>\n",
       "      <td>0</td>\n",
       "      <td>-1.386294</td>\n",
       "      <td>6</td>\n",
       "      <td>0</td>\n",
       "      <td>1.047319</td>\n",
       "    </tr>\n",
       "    <tr>\n",
       "      <th>2</th>\n",
       "      <td>0.223144</td>\n",
       "      <td>3.244544</td>\n",
       "      <td>63</td>\n",
       "      <td>-1.386294</td>\n",
       "      <td>0</td>\n",
       "      <td>-1.386294</td>\n",
       "      <td>6</td>\n",
       "      <td>0</td>\n",
       "      <td>1.047319</td>\n",
       "    </tr>\n",
       "    <tr>\n",
       "      <th>3</th>\n",
       "      <td>1.205971</td>\n",
       "      <td>3.442019</td>\n",
       "      <td>57</td>\n",
       "      <td>-1.386294</td>\n",
       "      <td>0</td>\n",
       "      <td>-0.430783</td>\n",
       "      <td>7</td>\n",
       "      <td>5</td>\n",
       "      <td>1.398717</td>\n",
       "    </tr>\n",
       "    <tr>\n",
       "      <th>4</th>\n",
       "      <td>2.059239</td>\n",
       "      <td>3.501043</td>\n",
       "      <td>60</td>\n",
       "      <td>1.474763</td>\n",
       "      <td>0</td>\n",
       "      <td>1.348073</td>\n",
       "      <td>7</td>\n",
       "      <td>20</td>\n",
       "      <td>1.658228</td>\n",
       "    </tr>\n",
       "  </tbody>\n",
       "</table>\n",
       "</div>"
      ],
      "text/plain": [
       "     lcavol   lweight  age      lbph  svi       lcp  gleason  pgg45      lpsa\n",
       "0  0.737164  3.473518   64  0.615186    0 -1.386294        6      0  0.765468\n",
       "1 -0.776529  3.539509   47 -1.386294    0 -1.386294        6      0  1.047319\n",
       "2  0.223144  3.244544   63 -1.386294    0 -1.386294        6      0  1.047319\n",
       "3  1.205971  3.442019   57 -1.386294    0 -0.430783        7      5  1.398717\n",
       "4  2.059239  3.501043   60  1.474763    0  1.348073        7     20  1.658228"
      ]
     },
     "execution_count": 33,
     "metadata": {},
     "output_type": "execute_result"
    }
   ],
   "source": [
    "df_test = pd.read_csv('prostate_test.csv')\n",
    "df_test.head()"
   ]
  },
  {
   "cell_type": "markdown",
   "metadata": {},
   "source": [
    "\n",
    "\n",
    "All of the data are stored in a single table, with the final column being the output 'lpsa'.  Before evaluating on test we must first create X_test and Y_test input/outputs where Y_test is the final column of the DataFrame, and X_test contains all other columns."
   ]
  },
  {
   "cell_type": "code",
   "execution_count": 34,
   "metadata": {},
   "outputs": [],
   "source": [
    "X_test = df_test[['lcavol', 'lweight', 'age', 'lbph', 'svi', 'lcp', 'gleason', 'pgg45']]\n",
    "Y_test = df_test['lpsa']"
   ]
  },
  {
   "cell_type": "markdown",
   "metadata": {
    "id": "y5RrdBTFEsYS"
   },
   "source": [
    "Best Subsets  \n",
    "We found the best subset of features for an ordinary least squares regression model by enumerating all feature subsets.  Using the best selected features, we train the model below and report mean squared error and $R^2$ on the test set."
   ]
  },
  {
   "cell_type": "code",
   "execution_count": 35,
   "metadata": {
    "colab": {
     "base_uri": "https://localhost:8080/"
    },
    "id": "JgzXx_9-skMe",
    "outputId": "912aedf5-bc26-47ef-c839-857ca29c0d4e"
   },
   "outputs": [
    {
     "name": "stdout",
     "output_type": "stream",
     "text": [
      "Best Subsets MSE :  0.49248234768050364\n"
     ]
    }
   ],
   "source": [
    "from sklearn.metrics import mean_squared_error\n",
    "\n",
    "#train\n",
    "best_subsets_best = linear_model.LinearRegression()\n",
    "best_subsets_best.fit(X_train[list(best_features_allsubsets)],Y_train)\n",
    "\n",
    "#predict\n",
    "best_subsets_predict =  best_subsets_best.predict(X_test[list(best_features_allsubsets)])\n",
    "\n",
    "#mse\n",
    "best_subsets_mse = mean_squared_error(Y_test,best_subsets_predict)\n",
    "print('Best Subsets MSE : ',best_subsets_mse)"
   ]
  },
  {
   "cell_type": "markdown",
   "metadata": {
    "id": "Xdtq9WWBGk2p"
   },
   "source": [
    "### Ridge Regression\n",
    "\n",
    "In the cell below, we train a Ridge Regression model using the optimal regularization coefficient ($\\alpha$) found earlier.  "
   ]
  },
  {
   "cell_type": "code",
   "execution_count": 36,
   "metadata": {
    "colab": {
     "base_uri": "https://localhost:8080/"
    },
    "id": "S9y4YfduGk2p",
    "outputId": "bd804bf4-4f3a-4dc2-816c-3a52642f5d3e"
   },
   "outputs": [
    {
     "name": "stdout",
     "output_type": "stream",
     "text": [
      "L2 MSE :  0.5273494592770832\n"
     ]
    }
   ],
   "source": [
    "l2_best = linear_model.Ridge(alpha=best_alpha_l2).fit(X_train, Y_train)\n",
    "l2_predict = l2_best.predict(X_test)\n",
    "l2_mse = mean_squared_error(Y_test, l2_predict)\n",
    "print('L2 MSE : ',l2_mse)"
   ]
  },
  {
   "cell_type": "markdown",
   "metadata": {
    "id": "W5OYb_BHF5Mn"
   },
   "source": [
    "### LASSO Regression\n",
    "Now, we train and evaluate the final model.  "
   ]
  },
  {
   "cell_type": "code",
   "execution_count": 37,
   "metadata": {
    "colab": {
     "base_uri": "https://localhost:8080/"
    },
    "id": "8Ms-CvC0F5Mp",
    "outputId": "079b272c-1a25-4f20-e1df-32ea9d683a4e"
   },
   "outputs": [
    {
     "name": "stdout",
     "output_type": "stream",
     "text": [
      "Lasso MSE :  0.5077062843682016\n"
     ]
    }
   ],
   "source": [
    "lasso_predict =  l1.predict(X_test)\n",
    "lasso_mse = mean_squared_error(Y_test, lasso_predict)\n",
    "print('Lasso MSE : ',lasso_mse)"
   ]
  },
  {
   "cell_type": "markdown",
   "metadata": {
    "id": "KzCB3rhdI3iW"
   },
   "source": [
    "### Compare feature weights for each model\n",
    "\n",
    "Now let's compare the feature weight learned by each of the three models.  In the cell below, we have the regression weights for each feature under Best Subset, Ridge, and Lasso models evaluated above. "
   ]
  },
  {
   "cell_type": "code",
   "execution_count": 38,
   "metadata": {
    "id": "usOZK73IMnuG"
   },
   "outputs": [],
   "source": [
    "feature_weights_best_subset = list(best_subsets_best.coef_[0])+ ['-']*6 #since the last 6 features are not considered in the model\n",
    "test_errors_row = {'Features': 'Test Error',\n",
    "                   'Best Subset': best_subsets_mse, \n",
    "                   'Ridge': l2_mse,\n",
    "                   'LASSO' : lasso_mse\n",
    "                   }"
   ]
  },
  {
   "cell_type": "code",
   "execution_count": 39,
   "metadata": {
    "id": "IBz6F0daI5hb"
   },
   "outputs": [],
   "source": [
    "results_df = pd.DataFrame({'Features':features,\n",
    "                   'Best Subset': feature_weights_best_subset, \n",
    "                   'Ridge': l2_best.coef_[0],\n",
    "                   'LASSO' : l1.coef_\n",
    "                   })\n",
    "\n",
    "results_df = results_df.append(test_errors_row,ignore_index=True).set_index('Features')"
   ]
  },
  {
   "cell_type": "code",
   "execution_count": 40,
   "metadata": {
    "colab": {
     "base_uri": "https://localhost:8080/",
     "height": 363
    },
    "id": "Z3WvinEoPIqo",
    "outputId": "cf83f801-29da-4646-fd6f-37f0cfe9d6ee"
   },
   "outputs": [
    {
     "data": {
      "text/html": [
       "<div>\n",
       "<style scoped>\n",
       "    .dataframe tbody tr th:only-of-type {\n",
       "        vertical-align: middle;\n",
       "    }\n",
       "\n",
       "    .dataframe tbody tr th {\n",
       "        vertical-align: top;\n",
       "    }\n",
       "\n",
       "    .dataframe thead th {\n",
       "        text-align: right;\n",
       "    }\n",
       "</style>\n",
       "<table border=\"1\" class=\"dataframe\">\n",
       "  <thead>\n",
       "    <tr style=\"text-align: right;\">\n",
       "      <th></th>\n",
       "      <th>Best Subset</th>\n",
       "      <th>Ridge</th>\n",
       "      <th>LASSO</th>\n",
       "    </tr>\n",
       "    <tr>\n",
       "      <th>Features</th>\n",
       "      <th></th>\n",
       "      <th></th>\n",
       "      <th></th>\n",
       "    </tr>\n",
       "  </thead>\n",
       "  <tbody>\n",
       "    <tr>\n",
       "      <th>lcavol</th>\n",
       "      <td>0.627607</td>\n",
       "      <td>0.550337</td>\n",
       "      <td>0.566300</td>\n",
       "    </tr>\n",
       "    <tr>\n",
       "      <th>lweight</th>\n",
       "      <td>0.738375</td>\n",
       "      <td>0.430148</td>\n",
       "      <td>0.572821</td>\n",
       "    </tr>\n",
       "    <tr>\n",
       "      <th>age</th>\n",
       "      <td>-</td>\n",
       "      <td>-0.014697</td>\n",
       "      <td>-0.017878</td>\n",
       "    </tr>\n",
       "    <tr>\n",
       "      <th>lbph</th>\n",
       "      <td>-</td>\n",
       "      <td>0.154290</td>\n",
       "      <td>0.141910</td>\n",
       "    </tr>\n",
       "    <tr>\n",
       "      <th>svi</th>\n",
       "      <td>-</td>\n",
       "      <td>0.387669</td>\n",
       "      <td>0.611769</td>\n",
       "    </tr>\n",
       "    <tr>\n",
       "      <th>lcp</th>\n",
       "      <td>-</td>\n",
       "      <td>-0.102993</td>\n",
       "      <td>-0.162829</td>\n",
       "    </tr>\n",
       "    <tr>\n",
       "      <th>gleason</th>\n",
       "      <td>-</td>\n",
       "      <td>-0.046865</td>\n",
       "      <td>0.000000</td>\n",
       "    </tr>\n",
       "    <tr>\n",
       "      <th>pgg45</th>\n",
       "      <td>-</td>\n",
       "      <td>0.009390</td>\n",
       "      <td>0.008575</td>\n",
       "    </tr>\n",
       "    <tr>\n",
       "      <th>Test Error</th>\n",
       "      <td>0.492482</td>\n",
       "      <td>0.527349</td>\n",
       "      <td>0.507706</td>\n",
       "    </tr>\n",
       "  </tbody>\n",
       "</table>\n",
       "</div>"
      ],
      "text/plain": [
       "           Best Subset     Ridge     LASSO\n",
       "Features                                  \n",
       "lcavol        0.627607  0.550337  0.566300\n",
       "lweight       0.738375  0.430148  0.572821\n",
       "age                  - -0.014697 -0.017878\n",
       "lbph                 -  0.154290  0.141910\n",
       "svi                  -  0.387669  0.611769\n",
       "lcp                  - -0.102993 -0.162829\n",
       "gleason              - -0.046865  0.000000\n",
       "pgg45                -  0.009390  0.008575\n",
       "Test Error    0.492482  0.527349  0.507706"
      ]
     },
     "execution_count": 40,
     "metadata": {},
     "output_type": "execute_result"
    }
   ],
   "source": [
    "results_df"
   ]
  },
  {
   "cell_type": "code",
   "execution_count": null,
   "metadata": {},
   "outputs": [],
   "source": []
  },
  {
   "cell_type": "code",
   "execution_count": null,
   "metadata": {},
   "outputs": [],
   "source": []
  },
  {
   "cell_type": "code",
   "execution_count": null,
   "metadata": {},
   "outputs": [],
   "source": []
  }
 ],
 "metadata": {
  "colab": {
   "collapsed_sections": [],
   "name": "HomeWork7.ipynb",
   "provenance": []
  },
  "kernelspec": {
   "display_name": "Python 3 (ipykernel)",
   "language": "python",
   "name": "python3"
  },
  "language_info": {
   "codemirror_mode": {
    "name": "ipython",
    "version": 3
   },
   "file_extension": ".py",
   "mimetype": "text/x-python",
   "name": "python",
   "nbconvert_exporter": "python",
   "pygments_lexer": "ipython3",
   "version": "3.9.10"
  },
  "vscode": {
   "interpreter": {
    "hash": "31f2aee4e71d21fbe5cf8b01ff0e069b9275f58929596ceb00d14d90e3e16cd6"
   }
  }
 },
 "nbformat": 4,
 "nbformat_minor": 4
}
